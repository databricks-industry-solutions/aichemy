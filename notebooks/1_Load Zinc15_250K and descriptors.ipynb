{
 "cells": [
  {
   "cell_type": "code",
   "execution_count": 0,
   "metadata": {
    "application/vnd.databricks.v1+cell": {
     "cellMetadata": {
      "byteLimit": 2048000,
      "rowLimit": 10000
     },
     "inputWidgets": {},
     "nuid": "30edcc88-356d-4796-9b1b-85d472eb382c",
     "showTitle": false,
     "tableResultSettingsMap": {},
     "title": ""
    }
   },
   "outputs": [],
   "source": [
    "%pip install rdkit ipywidgets\n",
    "%restart_python"
   ]
  },
  {
   "cell_type": "code",
   "execution_count": 0,
   "metadata": {
    "application/vnd.databricks.v1+cell": {
     "cellMetadata": {
      "byteLimit": 2048000,
      "rowLimit": 10000
     },
     "inputWidgets": {},
     "nuid": "f4053126-9e51-45e9-b712-41729f71f3ad",
     "showTitle": true,
     "tableResultSettingsMap": {},
     "title": "Download ZINC"
    }
   },
   "outputs": [],
   "source": [
    "%sh\n",
    "# https://deepchem.readthedocs.io/en/latest/api_reference/moleculenet.html#zinc15-datasets\n",
    "cd data\n",
    "wget -nc https://deepchemdata.s3-us-west-1.amazonaws.com/datasets/zinc15_250K_2D.tar.gz\n",
    "tar -xf zinc15_250K_2D.tar.gz\n",
    "rm data/zinc15_250K_2D.tar.gz"
   ]
  },
  {
   "cell_type": "code",
   "execution_count": 0,
   "metadata": {
    "application/vnd.databricks.v1+cell": {
     "cellMetadata": {
      "byteLimit": 2048000,
      "rowLimit": 10000
     },
     "inputWidgets": {},
     "nuid": "34986519-3eb8-4946-9ef9-e4950e70014b",
     "showTitle": false,
     "tableResultSettingsMap": {},
     "title": ""
    }
   },
   "outputs": [],
   "source": [
    "abs_data_path = os.path.abspath(\"data/zinc15_250K_2D.csv\")\n",
    "abs_data_path"
   ]
  },
  {
   "cell_type": "code",
   "execution_count": 0,
   "metadata": {
    "application/vnd.databricks.v1+cell": {
     "cellMetadata": {
      "byteLimit": 2048000,
      "rowLimit": 10000
     },
     "inputWidgets": {},
     "nuid": "e6ac3dd6-47e2-45b8-9a62-7d5cce43c271",
     "showTitle": false,
     "tableResultSettingsMap": {},
     "title": ""
    }
   },
   "outputs": [],
   "source": [
    "df = (spark.read\n",
    "    .option(\"header\", \"true\")\n",
    "    .option(\"inferSchema\", \"true\")\n",
    "    .csv(f\"file:/{abs_data_path}\"))\n",
    "display(df.limit(10))"
   ]
  },
  {
   "cell_type": "code",
   "execution_count": 0,
   "metadata": {
    "application/vnd.databricks.v1+cell": {
     "cellMetadata": {
      "byteLimit": 2048000,
      "rowLimit": 10000
     },
     "inputWidgets": {},
     "nuid": "1586244b-de5e-43bb-9e27-5a9e5a44e503",
     "showTitle": false,
     "tableResultSettingsMap": {},
     "title": ""
    }
   },
   "outputs": [],
   "source": [
    "df.write.mode(\"overwrite\").format(\"delta\").saveAsTable(\"healthcare_lifesciences.qsar.zinc15_250K\")"
   ]
  },
  {
   "cell_type": "code",
   "execution_count": 0,
   "metadata": {
    "application/vnd.databricks.v1+cell": {
     "cellMetadata": {
      "byteLimit": 2048000,
      "rowLimit": 10000
     },
     "inputWidgets": {},
     "nuid": "0d6cd3ae-fed7-48b1-8fcd-70ff1c46bbc0",
     "showTitle": false,
     "tableResultSettingsMap": {},
     "title": ""
    }
   },
   "outputs": [],
   "source": [
    "df.count()"
   ]
  },
  {
   "cell_type": "code",
   "execution_count": 0,
   "metadata": {
    "application/vnd.databricks.v1+cell": {
     "cellMetadata": {
      "byteLimit": 2048000,
      "rowLimit": 10000
     },
     "inputWidgets": {},
     "nuid": "ab5c2430-5df1-45d9-8b87-0c365c0d430e",
     "showTitle": false,
     "tableResultSettingsMap": {},
     "title": ""
    }
   },
   "outputs": [],
   "source": [
    "import pandas as pd\n",
    "import numpy as np\n",
    "import rdkit\n",
    "from rdkit.Chem import Descriptors, MolFromSmiles, AllChem, DataStructs\n",
    "from rdkit.Chem.rdchem import Mol\n",
    "from pyspark.sql.functions import pandas_udf\n",
    "from pyspark.sql.types import StructType, StructField, StringType, DoubleType, ArrayType, FloatType\n",
    "from typing import Dict, Iterator, List, Optional\n",
    "import re"
   ]
  },
  {
   "cell_type": "markdown",
   "metadata": {
    "application/vnd.databricks.v1+cell": {
     "cellMetadata": {},
     "inputWidgets": {},
     "nuid": "948633c3-4138-41d3-a2fa-37d294dcac9d",
     "showTitle": false,
     "tableResultSettingsMap": {},
     "title": ""
    }
   },
   "source": [
    "## Compute ECFP"
   ]
  },
  {
   "cell_type": "code",
   "execution_count": 0,
   "metadata": {
    "application/vnd.databricks.v1+cell": {
     "cellMetadata": {
      "byteLimit": 2048000,
      "rowLimit": 10000
     },
     "inputWidgets": {},
     "nuid": "1dcc5525-4309-4bb1-97bf-700e6bc2eeb1",
     "showTitle": false,
     "tableResultSettingsMap": {},
     "title": ""
    }
   },
   "outputs": [],
   "source": [
    "# Test for a single smiles\n",
    "fpgen = AllChem.GetMorganGenerator(radius=2, fpSize=1024)\n",
    "\n",
    "def smiles_to_ecfp(smiles: str, fpgen: rdkit.Chem.rdFingerprintGenerator.FingerprintGenerator64) -> np.array:\n",
    "    from rdkit.Chem import MolFromSmiles\n",
    "    mol = MolFromSmiles(smiles)\n",
    "    return fpgen.GetFingerprintAsNumPy(mol)\n",
    "\n",
    "smiles_to_ecfp(\"C1=Cc2ccccc2NN=C1\", fpgen)"
   ]
  },
  {
   "cell_type": "code",
   "execution_count": 0,
   "metadata": {
    "application/vnd.databricks.v1+cell": {
     "cellMetadata": {
      "byteLimit": 2048000,
      "rowLimit": 10000
     },
     "inputWidgets": {},
     "nuid": "f9264ea1-1be5-4c4a-a463-cf2fe7777f8d",
     "showTitle": false,
     "tableResultSettingsMap": {},
     "title": ""
    }
   },
   "outputs": [],
   "source": [
    "@pandas_udf(ArrayType(FloatType()))\n",
    "def udf_smiles_to_ecfp(smiles: Iterator[pd.Series]) -> Iterator[pd.Series]:\n",
    "    fpgen = AllChem.GetMorganGenerator(radius=2, fpSize=1024)\n",
    "    for batch in smiles:\n",
    "        results = []\n",
    "        for smi in batch:\n",
    "            desc_dict = smiles_to_ecfp(smi, fpgen)\n",
    "            results.append(desc_dict)\n",
    "        yield pd.Series(results)"
   ]
  },
  {
   "cell_type": "markdown",
   "metadata": {
    "application/vnd.databricks.v1+cell": {
     "cellMetadata": {},
     "inputWidgets": {},
     "nuid": "ce53ab5d-1f7e-4900-8055-217adf579f03",
     "showTitle": false,
     "tableResultSettingsMap": {},
     "title": ""
    }
   },
   "source": [
    "## Compute RDkit descriptors"
   ]
  },
  {
   "cell_type": "code",
   "execution_count": 0,
   "metadata": {
    "application/vnd.databricks.v1+cell": {
     "cellMetadata": {
      "byteLimit": 2048000,
      "rowLimit": 10000
     },
     "inputWidgets": {},
     "nuid": "48711e1e-6c42-44fc-a7fd-410308229c0c",
     "showTitle": false,
     "tableResultSettingsMap": {},
     "title": ""
    }
   },
   "outputs": [],
   "source": [
    "schema = StructType([StructField(name, DoubleType(), True) for name, _ in Descriptors.descList])\n",
    "schema_string = ', '.join([f\"{name} float\" for name, _ in Descriptors.descList])\n",
    "\n",
    "def smiles_to_desc(smiles: str, desc: Optional[List[str]] = None):\n",
    "    from rdkit.Chem import Descriptors, MolFromSmiles\n",
    "    mol = MolFromSmiles(smiles)\n",
    "    # desc option does not work\n",
    "    if desc:\n",
    "        calculator = Descriptors.Properties(desc)\n",
    "        return calculator.CalcDescriptors(mol)\n",
    "    else: #all descriptors\n",
    "        return Descriptors.CalcMolDescriptors(mol)\n",
    "\n",
    "@pandas_udf(schema_string)\n",
    "def udf_smiles_to_desc(smiles: Iterator[pd.Series]) -> Iterator[pd.DataFrame]:\n",
    "    for batch in smiles:\n",
    "        results = []\n",
    "        for smi in batch:\n",
    "            desc_dict = smiles_to_desc(smi)\n",
    "            results.append(desc_dict)\n",
    "        yield pd.DataFrame(results)"
   ]
  },
  {
   "cell_type": "code",
   "execution_count": 0,
   "metadata": {
    "application/vnd.databricks.v1+cell": {
     "cellMetadata": {
      "byteLimit": 2048000,
      "rowLimit": 10000
     },
     "inputWidgets": {},
     "nuid": "4e54a8a2-6811-4db6-9465-b4f7f86c2540",
     "showTitle": false,
     "tableResultSettingsMap": {},
     "title": ""
    }
   },
   "outputs": [],
   "source": [
    "df = df.repartition(32)"
   ]
  },
  {
   "cell_type": "code",
   "execution_count": 0,
   "metadata": {
    "application/vnd.databricks.v1+cell": {
     "cellMetadata": {
      "byteLimit": 2048000,
      "rowLimit": 10000
     },
     "inputWidgets": {},
     "nuid": "15c0a6d4-89f6-4a74-8003-db06e4e9146f",
     "showTitle": false,
     "tableResultSettingsMap": {},
     "title": ""
    }
   },
   "outputs": [],
   "source": [
    "df_desc = (df\n",
    "    .withColumn(\"ecfp\", udf_smiles_to_ecfp(\"smiles\"))\n",
    "    .withColumn(\"descriptors\", udf_smiles_to_desc(\"smiles\"))\n",
    ")\n",
    "display(df_desc.limit(10))"
   ]
  },
  {
   "cell_type": "code",
   "execution_count": 0,
   "metadata": {
    "application/vnd.databricks.v1+cell": {
     "cellMetadata": {
      "byteLimit": 2048000,
      "rowLimit": 10000
     },
     "inputWidgets": {},
     "nuid": "919e4a13-7388-48ac-a2d2-0b8230331a81",
     "showTitle": false,
     "tableResultSettingsMap": {},
     "title": ""
    }
   },
   "outputs": [],
   "source": [
    "# https://datagrok.ai/help/datagrok/solutions/domains/chem/descriptors\n",
    "desc = [desc for desc, _ in Descriptors.descList]\n",
    "unselect_regex = re.compile(r\"^Max|^Min|^MolWt$|^FpDensityMorgan|^BCUT2D|Ipc$|AvgIpc|BalabanJ|BertzCT|^Chi|^Kappa|LabuteASA|^PEOE_|^SMR_|^SlogP_|EState|VSA_EState|MolLogP|MolMR|HallKier\")\n",
    "selected_desc = [d for d in desc if not unselect_regex.match(d)]\n",
    "selected_desc"
   ]
  },
  {
   "cell_type": "code",
   "execution_count": 0,
   "metadata": {
    "application/vnd.databricks.v1+cell": {
     "cellMetadata": {
      "byteLimit": 2048000,
      "rowLimit": 10000
     },
     "inputWidgets": {},
     "nuid": "c801501a-8c42-4955-90aa-b104084aa741",
     "showTitle": false,
     "tableResultSettingsMap": {},
     "title": ""
    }
   },
   "outputs": [],
   "source": [
    "selected_columns = df.columns + [\"descriptors.\" + i for i in selected_desc] + ['ecfp']\n",
    "selected_columns"
   ]
  },
  {
   "cell_type": "code",
   "execution_count": 0,
   "metadata": {
    "application/vnd.databricks.v1+cell": {
     "cellMetadata": {
      "byteLimit": 2048000,
      "rowLimit": 10000
     },
     "inputWidgets": {},
     "nuid": "288a1999-8e83-43c4-a117-e5ab8ef75447",
     "showTitle": false,
     "tableResultSettingsMap": {},
     "title": ""
    }
   },
   "outputs": [],
   "source": [
    "display(df_desc.select(selected_columns).limit(5))"
   ]
  },
  {
   "cell_type": "code",
   "execution_count": 0,
   "metadata": {
    "application/vnd.databricks.v1+cell": {
     "cellMetadata": {
      "byteLimit": 2048000,
      "rowLimit": 10000
     },
     "inputWidgets": {},
     "nuid": "f7fbf372-e91f-4d2b-b775-ae54ed188260",
     "showTitle": false,
     "tableResultSettingsMap": {},
     "title": ""
    }
   },
   "outputs": [],
   "source": [
    "df_desc.select(selected_columns).write.format(\"delta\").mode(\"overwrite\").option(\"overwriteSchema\", \"true\").saveAsTable(\"healthcare_lifesciences.qsar.zinc15_250k_full\")"
   ]
  },
  {
   "cell_type": "code",
   "execution_count": 0,
   "metadata": {
    "application/vnd.databricks.v1+cell": {
     "cellMetadata": {},
     "inputWidgets": {},
     "nuid": "d6812d7b-8d96-4ec6-896e-dfe32f6447d1",
     "showTitle": false,
     "tableResultSettingsMap": {},
     "title": ""
    }
   },
   "outputs": [],
   "source": [
    "%sql\n",
    "ALTER TABLE healthcare_lifesciences.qsar.zinc15_250k_full SET TBLPROPERTIES (delta.enableChangeDataFeed = true)"
   ]
  },
  {
   "cell_type": "markdown",
   "metadata": {
    "application/vnd.databricks.v1+cell": {
     "cellMetadata": {},
     "inputWidgets": {},
     "nuid": "8bc38d7a-1aff-4f9a-a693-f2b22ae7f1cf",
     "showTitle": false,
     "tableResultSettingsMap": {},
     "title": ""
    }
   },
   "source": [
    "## Subset columns for genie"
   ]
  },
  {
   "cell_type": "code",
   "execution_count": 0,
   "metadata": {
    "application/vnd.databricks.v1+cell": {
     "cellMetadata": {
      "byteLimit": 2048000,
      "rowLimit": 10000
     },
     "inputWidgets": {},
     "nuid": "f97ac5c1-7fb2-4b08-a767-aa5263991059",
     "showTitle": false,
     "tableResultSettingsMap": {},
     "title": ""
    }
   },
   "outputs": [],
   "source": [
    "df_desc.select(selected_columns).drop(\"tranche_name\", \"ecfp\").write.format(\"delta\").mode(\"overwrite\").option(\"overwriteSchema\", \"true\").saveAsTable(\"healthcare_lifesciences.qsar.zinc15_250k_genie\")"
   ]
  }
 ],
 "metadata": {
  "application/vnd.databricks.v1+notebook": {
   "computePreferences": null,
   "dashboards": [],
   "environmentMetadata": {
    "base_environment": "",
    "environment_version": "2"
   },
   "inputWidgetPreferences": null,
   "language": "python",
   "notebookMetadata": {
    "mostRecentlyExecutedCommandWithImplicitDF": {
     "commandId": 6888816877696346,
     "dataframes": [
      "_sqldf"
     ]
    },
    "pythonIndentUnit": 2
   },
   "notebookName": "1_Load Zinc15_250K and descriptors",
   "widgets": {}
  },
  "language_info": {
   "name": "python"
  }
 },
 "nbformat": 4,
 "nbformat_minor": 0
}
