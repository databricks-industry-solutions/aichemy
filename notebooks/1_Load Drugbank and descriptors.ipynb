{
 "cells": [
  {
   "cell_type": "code",
   "execution_count": 0,
   "metadata": {
    "application/vnd.databricks.v1+cell": {
     "cellMetadata": {
      "byteLimit": 2048000,
      "rowLimit": 10000
     },
     "inputWidgets": {},
     "nuid": "30edcc88-356d-4796-9b1b-85d472eb382c",
     "showTitle": false,
     "tableResultSettingsMap": {},
     "title": ""
    }
   },
   "outputs": [],
   "source": [
    "%pip install rdkit ipywidgets"
   ]
  },
  {
   "cell_type": "code",
   "execution_count": 0,
   "metadata": {
    "application/vnd.databricks.v1+cell": {
     "cellMetadata": {
      "byteLimit": 2048000,
      "rowLimit": 10000
     },
     "inputWidgets": {},
     "nuid": "ab5c2430-5df1-45d9-8b87-0c365c0d430e",
     "showTitle": false,
     "tableResultSettingsMap": {},
     "title": ""
    }
   },
   "outputs": [],
   "source": [
    "import mols2grid\n",
    "import pandas as pd\n",
    "import numpy as np\n",
    "import rdkit\n",
    "from rdkit.Chem import Descriptors, Draw, MolFromSmiles, AllChem, DataStructs\n",
    "from rdkit.Chem.rdchem import Mol\n",
    "from ipywidgets import interact, widgets\n",
    "import urllib\n",
    "from IPython.display import display as ipython_display\n",
    "import py3Dmol\n",
    "from pyspark.sql.functions import pandas_udf, udf\n",
    "from pyspark.sql.types import StructType, StructField, StringType, DoubleType, BinaryType\n",
    "from typing import Dict, Optional, List, Iterator\n",
    "import re\n",
    "import os"
   ]
  },
  {
   "cell_type": "code",
   "execution_count": 0,
   "metadata": {
    "application/vnd.databricks.v1+cell": {
     "cellMetadata": {
      "byteLimit": 2048000,
      "rowLimit": 10000
     },
     "inputWidgets": {},
     "nuid": "b6756022-f2a9-46ef-8315-b625966e613f",
     "showTitle": false,
     "tableResultSettingsMap": {},
     "title": ""
    }
   },
   "outputs": [],
   "source": [
    "# Download Drugbank subset of FDA-approved drugs\n",
    "data_path = \"data/drugbank_approved.csv\"\n",
    "table_destination = \"healthcare_lifesciences.qsar.drugbank\"\n",
    "table_description = \"Drugbank dataset as used in ADMET-AI in 10.1093/bioinformatics/btae416\"\n",
    "\n",
    "abs_data_path = os.path.abspath(data_path)\n",
    "abs_data_path"
   ]
  },
  {
   "cell_type": "code",
   "execution_count": 0,
   "metadata": {
    "application/vnd.databricks.v1+cell": {
     "cellMetadata": {
      "byteLimit": 2048000,
      "rowLimit": 10000
     },
     "inputWidgets": {},
     "nuid": "288bebe6-998c-49e3-85ac-edf68a1f5820",
     "showTitle": false,
     "tableResultSettingsMap": {},
     "title": ""
    }
   },
   "outputs": [],
   "source": [
    "df = spark.read.csv(f\"file:/{abs_data_path}\", header=True, inferSchema=True)\n",
    "display(df)"
   ]
  },
  {
   "cell_type": "code",
   "execution_count": 0,
   "metadata": {
    "application/vnd.databricks.v1+cell": {
     "cellMetadata": {},
     "inputWidgets": {},
     "nuid": "7f90f2b4-db54-449c-b440-3b51e6d412b3",
     "showTitle": false,
     "tableResultSettingsMap": {},
     "title": ""
    }
   },
   "outputs": [],
   "source": [
    "df.write \\\n",
    ".mode(\"overwrite\") \\\n",
    ".option(\"overwriteSchema\", \"True\") \\\n",
    ".saveAsTable(table_destination)"
   ]
  },
  {
   "cell_type": "code",
   "execution_count": 0,
   "metadata": {
    "application/vnd.databricks.v1+cell": {
     "cellMetadata": {},
     "inputWidgets": {},
     "nuid": "301cb801-4406-4cb6-8dd8-fdeb19a7172f",
     "showTitle": false,
     "tableResultSettingsMap": {},
     "title": ""
    }
   },
   "outputs": [],
   "source": [
    "spark.sql(f\"\"\"\n",
    "ALTER TABLE {table_destination} SET TBLPROPERTIES('comment'='{table_description}')\n",
    "\"\"\")"
   ]
  },
  {
   "cell_type": "markdown",
   "metadata": {
    "application/vnd.databricks.v1+cell": {
     "cellMetadata": {},
     "inputWidgets": {},
     "nuid": "913ddc90-8ede-43ad-ab6b-97880cfc8077",
     "showTitle": false,
     "tableResultSettingsMap": {},
     "title": ""
    }
   },
   "source": [
    "## Compute ECFP"
   ]
  },
  {
   "cell_type": "code",
   "execution_count": 0,
   "metadata": {
    "application/vnd.databricks.v1+cell": {
     "cellMetadata": {},
     "inputWidgets": {},
     "nuid": "65c8c175-3cc2-40b0-8f39-6d31b1b43ac9",
     "showTitle": false,
     "tableResultSettingsMap": {},
     "title": ""
    }
   },
   "outputs": [],
   "source": [
    "# Test for a single smiles\n",
    "fpgen = AllChem.GetMorganGenerator(radius=2, fpSize=1024)\n",
    "\n",
    "def smiles_to_ecfp(smiles: str, fpgen: rdkit.Chem.rdFingerprintGenerator.FingerprintGenerator64) -> np.array:\n",
    "    from rdkit.Chem import MolFromSmiles\n",
    "    mol = MolFromSmiles(smiles)\n",
    "    return fpgen.GetFingerprintAsNumPy(mol)\n",
    "\n",
    "smiles_to_ecfp(\"C1=Cc2ccccc2NN=C1\", fpgen)"
   ]
  },
  {
   "cell_type": "code",
   "execution_count": 0,
   "metadata": {
    "application/vnd.databricks.v1+cell": {
     "cellMetadata": {},
     "inputWidgets": {},
     "nuid": "ea16a305-d4cb-4bcb-8352-f048b4630364",
     "showTitle": false,
     "tableResultSettingsMap": {},
     "title": ""
    }
   },
   "outputs": [],
   "source": [
    "@pandas_udf(ArrayType(FloatType()))\n",
    "def udf_smiles_to_ecfp(smiles: Iterator[pd.Series]) -> Iterator[pd.Series]:\n",
    "    fpgen = AllChem.GetMorganGenerator(radius=2, fpSize=1024)\n",
    "    for batch in smiles:\n",
    "        results = []\n",
    "        for smi in batch:\n",
    "            desc_dict = smiles_to_ecfp(smi, fpgen)\n",
    "            results.append(desc_dict)\n",
    "        yield pd.Series(results)"
   ]
  },
  {
   "cell_type": "markdown",
   "metadata": {
    "application/vnd.databricks.v1+cell": {
     "cellMetadata": {},
     "inputWidgets": {},
     "nuid": "94b1cf1f-150f-4a9f-a056-aab482b4dfaa",
     "showTitle": false,
     "tableResultSettingsMap": {},
     "title": ""
    }
   },
   "source": [
    "## Compute RDkit descriptors"
   ]
  },
  {
   "cell_type": "code",
   "execution_count": 0,
   "metadata": {
    "application/vnd.databricks.v1+cell": {
     "cellMetadata": {
      "byteLimit": 2048000,
      "rowLimit": 10000
     },
     "inputWidgets": {},
     "nuid": "2682b512-99ee-40db-8eaf-6f66077e70cd",
     "showTitle": false,
     "tableResultSettingsMap": {},
     "title": ""
    }
   },
   "outputs": [],
   "source": [
    "schema = StructType([StructField(name, DoubleType(), True) for name, _ in Descriptors.descList])\n",
    "schema_string = ', '.join([f\"{name} float\" for name, _ in Descriptors.descList])\n",
    "\n",
    "def smiles_to_desc(smiles: str, desc: Optional[List[str]] = None):\n",
    "    from rdkit.Chem import Descriptors, MolFromSmiles\n",
    "    mol = MolFromSmiles(smiles)\n",
    "    # desc option does not work\n",
    "    if desc:\n",
    "        calculator = Descriptors.Properties(desc)\n",
    "        return calculator.CalcDescriptors(mol)\n",
    "    else: #all descriptors\n",
    "        return Descriptors.CalcMolDescriptors(mol)\n",
    "\n",
    "@pandas_udf(schema_string)\n",
    "def udf_smiles_to_desc(smiles: Iterator[pd.Series]) -> Iterator[pd.DataFrame]:\n",
    "    for batch in smiles:\n",
    "        results = []\n",
    "        for smi in batch:\n",
    "            desc_dict = smiles_to_desc(smi)\n",
    "            results.append(desc_dict)\n",
    "        yield pd.DataFrame(results)"
   ]
  },
  {
   "cell_type": "code",
   "execution_count": 0,
   "metadata": {
    "application/vnd.databricks.v1+cell": {
     "cellMetadata": {
      "byteLimit": 2048000,
      "rowLimit": 10000
     },
     "inputWidgets": {},
     "nuid": "1e3545f3-99eb-4065-a96b-3e96e4ffee2a",
     "showTitle": false,
     "tableResultSettingsMap": {},
     "title": ""
    }
   },
   "outputs": [],
   "source": [
    "df = df.repartition(32)\n",
    "\n",
    "df_desc = (df\n",
    "    .withColumn(\"ecfp\", udf_smiles_to_ecfp(\"smiles\"))\n",
    "    .withColumn(\"descriptors\", udf_smiles_to_desc(\"smiles\"))\n",
    ")\n",
    "display(df_desc.limit(10))"
   ]
  },
  {
   "cell_type": "code",
   "execution_count": 0,
   "metadata": {
    "application/vnd.databricks.v1+cell": {
     "cellMetadata": {
      "byteLimit": 2048000,
      "rowLimit": 10000
     },
     "inputWidgets": {},
     "nuid": "a6c8e049-62ba-497d-b0cd-c424f76baf12",
     "showTitle": false,
     "tableResultSettingsMap": {},
     "title": ""
    }
   },
   "outputs": [],
   "source": [
    "# https://datagrok.ai/help/datagrok/solutions/domains/chem/descriptors\n",
    "desc = [desc for desc, _ in Descriptors.descList]\n",
    "unselect_regex = re.compile(r\"^Max|^Min|^MolWt$|^FpDensityMorgan|^BCUT2D|Ipc$|AvgIpc|BalabanJ|BertzCT|^Chi|^Kappa|LabuteASA|^PEOE_|^SMR_|^SlogP_|EState|VSA_EState|MolLogP|MolMR|HallKier|qed|TPSA|NumHAcceptors|NumHDonors\")\n",
    "selected_desc = [d for d in desc if not unselect_regex.match(d)]\n",
    "selected_desc"
   ]
  },
  {
   "cell_type": "code",
   "execution_count": 0,
   "metadata": {
    "application/vnd.databricks.v1+cell": {
     "cellMetadata": {},
     "inputWidgets": {},
     "nuid": "28f19b4f-9721-4eeb-83d9-f585ebee6c58",
     "showTitle": false,
     "tableResultSettingsMap": {},
     "title": ""
    }
   },
   "outputs": [],
   "source": [
    "selected_columns = df.columns + [\"descriptors.\" + i for i in selected_desc] + ['ecfp']\n",
    "selected_columns"
   ]
  },
  {
   "cell_type": "code",
   "execution_count": 0,
   "metadata": {
    "application/vnd.databricks.v1+cell": {
     "cellMetadata": {
      "byteLimit": 2048000,
      "rowLimit": 10000
     },
     "inputWidgets": {},
     "nuid": "3c304683-f65a-4534-8411-cf80ade12ade",
     "showTitle": false,
     "tableResultSettingsMap": {},
     "title": ""
    }
   },
   "outputs": [],
   "source": [
    "display(df_desc.select(selected_columns).limit(5))"
   ]
  },
  {
   "cell_type": "code",
   "execution_count": 0,
   "metadata": {
    "application/vnd.databricks.v1+cell": {
     "cellMetadata": {
      "byteLimit": 2048000,
      "rowLimit": 10000
     },
     "inputWidgets": {},
     "nuid": "8c222114-e5e7-4fbd-a59a-7a2f0a7690ee",
     "showTitle": false,
     "tableResultSettingsMap": {},
     "title": ""
    }
   },
   "outputs": [],
   "source": [
    "df_desc.select(selected_columns).write.format(\"delta\").mode(\"overwrite\").option(\"overwriteSchema\", \"true\").saveAsTable(\"healthcare_lifesciences.qsar.drugbank_full\")"
   ]
  }
 ],
 "metadata": {
  "application/vnd.databricks.v1+notebook": {
   "computePreferences": null,
   "dashboards": [],
   "environmentMetadata": {
    "base_environment": "",
    "environment_version": "2"
   },
   "inputWidgetPreferences": null,
   "language": "python",
   "notebookMetadata": {
    "mostRecentlyExecutedCommandWithImplicitDF": {
     "commandId": 7079757596423355,
     "dataframes": [
      "_sqldf"
     ]
    },
    "pythonIndentUnit": 2
   },
   "notebookName": "1_Load Drugbank and descriptors",
   "widgets": {}
  },
  "language_info": {
   "name": "python"
  }
 },
 "nbformat": 4,
 "nbformat_minor": 0
}
